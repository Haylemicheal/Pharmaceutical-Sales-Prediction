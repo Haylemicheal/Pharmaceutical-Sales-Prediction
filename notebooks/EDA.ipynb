{
 "cells": [
  {
   "cell_type": "code",
   "execution_count": 121,
   "id": "d501b68e",
   "metadata": {},
   "outputs": [],
   "source": [
    "import sys, os, io\n",
    "import dvc.api\n",
    "sys.path.append(os.path.abspath(os.path.join('..')))"
   ]
  },
  {
   "cell_type": "code",
   "execution_count": 122,
   "id": "3b37ea0a",
   "metadata": {},
   "outputs": [],
   "source": [
    "from scripts.dataloader import DataLoader\n",
    "from scripts.exploration import Exploration"
   ]
  },
  {
   "cell_type": "code",
   "execution_count": 123,
   "id": "2f6035b8",
   "metadata": {},
   "outputs": [],
   "source": [
    "train_data = '../data/clean/train.csv'\n",
    "test_data = '../data/clean/test.csv'\n",
    "store_data = '../data/clean/store.csv'"
   ]
  },
  {
   "cell_type": "markdown",
   "id": "30124233",
   "metadata": {},
   "source": [
    "### Load the data from Gdrive"
   ]
  },
  {
   "cell_type": "code",
   "execution_count": 124,
   "id": "574c6b1e",
   "metadata": {},
   "outputs": [],
   "source": [
    "dataloader = DataLoader()\n",
    "exp = Exploration()\n",
    "repo = 'https://github.com/Haylemicheal/Pharmaceutical-Sales-Prediction/'\n",
    "content_train =dvc.api.read(path=train_data, repo=repo, rev='cleaned-v')\n",
    "df_train = dataloader.read_csv(io.StringIO(content_train))\n",
    "content_store =dvc.api.read(path=store_data, repo=repo, rev='cleaned-v')\n",
    "df_store = dataloader.read_csv(io.StringIO(content_store))\n",
    "content_test =dvc.api.read(path=test_data, repo=repo, rev='cleaned-v')\n",
    "df_test = dataloader.read_csv(io.StringIO(content_test))"
   ]
  },
  {
   "cell_type": "code",
   "execution_count": 125,
   "id": "d26413d2",
   "metadata": {},
   "outputs": [],
   "source": [
    "df_train[[\"year\",\"month\",\"day\"]] = df_train[\"Date\"].str.split(\"-\", expand = True)\n",
    "df_test[[\"year\",\"month\",\"day\"]] = df_test[\"Date\"].str.split(\"-\", expand = True)"
   ]
  },
  {
   "cell_type": "markdown",
   "id": "17fe540c",
   "metadata": {},
   "source": [
    "## Questions"
   ]
  },
  {
   "cell_type": "markdown",
   "id": "732f488a",
   "metadata": {},
   "source": [
    "1. Check for distribution in both training and test sets - are the promotions distributed similarly between these two groups?"
   ]
  },
  {
   "cell_type": "code",
   "execution_count": 126,
   "id": "1f346c50",
   "metadata": {},
   "outputs": [],
   "source": [
    "train_promo = df_train['Promo']\n",
    "test_promo = df_test['Promo']"
   ]
  },
  {
   "cell_type": "code",
   "execution_count": 127,
   "id": "36e542c3",
   "metadata": {},
   "outputs": [
    {
     "data": {
      "image/png": "[encoded data removed]",
      "text/plain": [
       "<Figure size 432x288 with 1 Axes>"
      ]
     },
     "metadata": {
      "needs_background": "light"
     },
     "output_type": "display_data"
    }
   ],
   "source": [
    "from matplotlib import pyplot\n",
    "pyplot.figure(1)\n",
    "pyplot.subplot(111)\n",
    "train_promo.plot(kind= 'kde' )\n",
    "pyplot.subplot(111)\n",
    "test_promo.plot(kind= 'kde')\n",
    "pyplot.legend(['Train', 'Test'])\n",
    "pyplot.show()"
   ]
  },
  {
   "cell_type": "markdown",
   "id": "83d0e0cf",
   "metadata": {},
   "source": [
    "The distribution of the promo is almost the same in train and test data"
   ]
  },
  {
   "cell_type": "markdown",
   "id": "bc99d816",
   "metadata": {},
   "source": [
    "### Check & compare sales behavior before, during and after holidays\n"
   ]
  },
  {
   "cell_type": "code",
   "execution_count": 128,
   "id": "eb26466c",
   "metadata": {},
   "outputs": [
    {
     "data": {
      "text/plain": [
       "array(['0', 'a', 'b', 'c'], dtype=object)"
      ]
     },
     "execution_count": 128,
     "metadata": {},
     "output_type": "execute_result"
    }
   ],
   "source": [
    "df_train['StateHoliday'].unique()"
   ]
  },
  {
   "cell_type": "markdown",
   "id": "0941cbff",
   "metadata": {},
   "source": [
    "StateHoliday\n",
    "\n",
    "- 0 -> None\n",
    "- a -> Public Holiday\n",
    "- b -> Easter\n",
    "- c -> Christmass"
   ]
  },
  {
   "cell_type": "code",
   "execution_count": 129,
   "id": "ec4bd146",
   "metadata": {},
   "outputs": [
    {
     "data": {
      "text/plain": [
       "DatetimeIndex(['2013-12-25', '2013-12-26', '2014-12-25', '2014-12-26'], dtype='datetime64[ns]', name='Date', freq=None)"
      ]
     },
     "execution_count": 129,
     "metadata": {},
     "output_type": "execute_result"
    }
   ],
   "source": [
    "import pandas as pd\n",
    "christmas_date = df_train[df_train['StateHoliday'] == 'c']\n",
    "christmas_dates = christmas_date.groupby('Date')['Date'].unique().index\n",
    "pd.to_datetime(christmas_dates)"
   ]
  },
  {
   "cell_type": "code",
   "execution_count": 130,
   "id": "64e6674d",
   "metadata": {},
   "outputs": [
    {
     "data": {
      "text/html": [
       "<div>\n",
       "<style scoped>\n",
       "    .dataframe tbody tr th:only-of-type {\n",
       "        vertical-align: middle;\n",
       "    }\n",
       "\n",
       "    .dataframe tbody tr th {\n",
       "        vertical-align: top;\n",
       "    }\n",
       "\n",
       "    .dataframe thead th {\n",
       "        text-align: right;\n",
       "    }\n",
       "</style>\n",
       "<table border=\"1\" class=\"dataframe\">\n",
       "  <thead>\n",
       "    <tr style=\"text-align: right;\">\n",
       "      <th></th>\n",
       "      <th>Sales</th>\n",
       "    </tr>\n",
       "    <tr>\n",
       "      <th>Date</th>\n",
       "      <th></th>\n",
       "    </tr>\n",
       "  </thead>\n",
       "  <tbody>\n",
       "    <tr>\n",
       "      <th>2013-01-01</th>\n",
       "      <td>97235</td>\n",
       "    </tr>\n",
       "    <tr>\n",
       "      <th>2013-01-02</th>\n",
       "      <td>6949829</td>\n",
       "    </tr>\n",
       "    <tr>\n",
       "      <th>2013-01-03</th>\n",
       "      <td>6347820</td>\n",
       "    </tr>\n",
       "    <tr>\n",
       "      <th>2013-01-04</th>\n",
       "      <td>6638954</td>\n",
       "    </tr>\n",
       "    <tr>\n",
       "      <th>2013-01-05</th>\n",
       "      <td>5951593</td>\n",
       "    </tr>\n",
       "  </tbody>\n",
       "</table>\n",
       "</div>"
      ],
      "text/plain": [
       "              Sales\n",
       "Date               \n",
       "2013-01-01    97235\n",
       "2013-01-02  6949829\n",
       "2013-01-03  6347820\n",
       "2013-01-04  6638954\n",
       "2013-01-05  5951593"
      ]
     },
     "execution_count": 130,
     "metadata": {},
     "output_type": "execute_result"
    }
   ],
   "source": [
    "grouped_by_date = df_train.groupby(\n",
    "    'Date')[['Sales']]\n",
    "grouped_by_date = grouped_by_date.sum()\n",
    "grouped_by_date.head()"
   ]
  },
  {
   "cell_type": "code",
   "execution_count": 131,
   "id": "9a7e193b",
   "metadata": {},
   "outputs": [
    {
     "data": {
      "text/plain": [
       "<matplotlib.legend.Legend at 0x7fc641043dc0>"
      ]
     },
     "execution_count": 131,
     "metadata": {},
     "output_type": "execute_result"
    },
    {
     "data": {
      "image/png": "[encoded data removed]",
      "text/plain": [
       "<Figure size 432x288 with 1 Axes>"
      ]
     },
     "metadata": {
      "needs_background": "light"
     },
     "output_type": "display_data"
    }
   ],
   "source": [
    "from turtle import color\n",
    "import seaborn as sns\n",
    "\n",
    "before_christmass_idx = grouped_by_date[pd.to_datetime(grouped_by_date.index) < christmas_dates[0]].index[-20:]\n",
    "after_christmass_idx = grouped_by_date[pd.to_datetime(grouped_by_date.index) > christmas_dates[1]].index[:20]\n",
    "during_christmass_idx = christmas_dates[:2]\n",
    "\n",
    "before_christmass = grouped_by_date[grouped_by_date.index.isin(before_christmass_idx)]\n",
    "after_christmass = grouped_by_date[grouped_by_date.index.isin(after_christmass_idx)]\n",
    "during_christmass = grouped_by_date[grouped_by_date.index.isin(during_christmass_idx)]\n",
    "\n",
    "# sns.set()\n",
    "sns.lineplot(x=before_christmass.index, y=before_christmass['Sales'])\n",
    "sns.lineplot(x=after_christmass.index, y=after_christmass['Sales'])\n",
    "ax = sns.lineplot(x=during_christmass.index, y=during_christmass['Sales'])\n",
    "ax.set_title(\"Sales behaviour around holidays\")\n",
    "pyplot.xticks(rotation=90)\n",
    "ax.legend(['before', 'after', 'during'], fontsize=12)"
   ]
  },
  {
   "cell_type": "markdown",
   "id": "64b4134f",
   "metadata": {},
   "source": [
    "The maximum of the sales is happened before the holiday. The lowest Sales is on the Holyday."
   ]
  },
  {
   "cell_type": "markdown",
   "id": "5b843a43",
   "metadata": {},
   "source": [
    "### Find out any seasonal (Christmas, Easter etc) purchase behaviors"
   ]
  },
  {
   "cell_type": "markdown",
   "id": "29c43050",
   "metadata": {},
   "source": [
    "The Selling pattern every year is similar."
   ]
  },
  {
   "cell_type": "markdown",
   "id": "0ae51554",
   "metadata": {},
   "source": [
    "### What can you say about the correlation between sales and number of customers?"
   ]
  },
  {
   "cell_type": "code",
   "execution_count": 132,
   "id": "1586e9b9",
   "metadata": {},
   "outputs": [
    {
     "data": {
      "text/plain": [
       "Text(0.5, 1.0, 'Correlation between sales and other features')"
      ]
     },
     "execution_count": 132,
     "metadata": {},
     "output_type": "execute_result"
    },
    {
     "data": {
      "image/png": "[encoded data removed]",
      "text/plain": [
       "<Figure size 1080x720 with 2 Axes>"
      ]
     },
     "metadata": {
      "needs_background": "light"
     },
     "output_type": "display_data"
    }
   ],
   "source": [
    "import numpy as np\n",
    "df_correlation = df_train[['Store', 'DayOfWeek', 'Date', 'Sales', 'Customers', 'Open', 'Promo',\n",
    "       'StateHoliday', 'SchoolHoliday', 'day','month','year']]\n",
    "\n",
    "upper_triangle = np.zeros_like(df_correlation.corr(), dtype=bool)\n",
    "upper_triangle[np.triu_indices_from(upper_triangle)] = True\n",
    "f, ax = pyplot.subplots(figsize=(15, 10))\n",
    "sns.heatmap(df_correlation.corr(),\n",
    "            ax=ax,\n",
    "            annot=True,\n",
    "            mask=upper_triangle,\n",
    "            fmt='.2f',\n",
    "            linewidths=0.5,\n",
    "            cmap=sns.color_palette(\"flare\", as_cmap=True))\n",
    "ax.set_title(\"Correlation between sales and other features\", fontsize=20)"
   ]
  },
  {
   "cell_type": "markdown",
   "id": "b6b8c494",
   "metadata": {},
   "source": [
    "### How does promo affect sales? Are the promos attracting more customers?"
   ]
  },
  {
   "cell_type": "code",
   "execution_count": 133,
   "id": "d5f3c79f",
   "metadata": {},
   "outputs": [],
   "source": [
    "promo = df_train[df_train['Promo'] == 1]\n",
    "no_promo = df_train[df_train['Promo'] == 0]\n",
    "sales_with_promo = promo.groupby(\"month\").agg({\"Sales\":  \"mean\"})\n",
    "sales_without_promo = no_promo.groupby(\"month\").agg({\"Sales\":  \"mean\"})"
   ]
  },
  {
   "cell_type": "code",
   "execution_count": 134,
   "id": "5163da63",
   "metadata": {
    "scrolled": true
   },
   "outputs": [
    {
     "data": {
      "image/png": "[encoded data removed]",
      "text/plain": [
       "<Figure size 864x576 with 1 Axes>"
      ]
     },
     "metadata": {
      "needs_background": "light"
     },
     "output_type": "display_data"
    }
   ],
   "source": [
    "ax = sales_with_promo.plot(kind=\"bar\",color='blue',figsize=(12,8))\n",
    "ax.set_title(\"The overall sales increase percentage for each month due to promotion\")\n",
    "ax.set_xlabel(\"Month\")\n",
    "ax.set_ylabel(\"Sales increase in percent\")\n",
    "pyplot.show()"
   ]
  },
  {
   "cell_type": "code",
   "execution_count": 135,
   "id": "7dffab23",
   "metadata": {},
   "outputs": [
    {
     "data": {
      "image/png": "[encoded data removed]",
      "text/plain": [
       "<Figure size 864x576 with 1 Axes>"
      ]
     },
     "metadata": {
      "needs_background": "light"
     },
     "output_type": "display_data"
    }
   ],
   "source": [
    "ax = sales_without_promo.plot(kind=\"bar\",color='green',figsize=(12,8))\n",
    "ax.set_title(\"The overall sales increase percentage for each month due to promotion\")\n",
    "ax.set_xlabel(\"Month\")\n",
    "ax.set_ylabel(\"Sales increase in percent\")\n",
    "pyplot.show()"
   ]
  },
  {
   "cell_type": "markdown",
   "id": "5ded14b2",
   "metadata": {},
   "source": [
    "As we can see from the plots the promotions has a positive effect on the sales."
   ]
  },
  {
   "cell_type": "markdown",
   "id": "aa9b03ab",
   "metadata": {},
   "source": [
    " ### How does it affect already existing customers?"
   ]
  },
  {
   "cell_type": "code",
   "execution_count": 136,
   "id": "1b148319",
   "metadata": {},
   "outputs": [],
   "source": [
    "promo = df_train[df_train['Promo'] == 1]\n",
    "no_promo = df_train[df_train['Promo'] == 0]\n",
    "customers_with_promo = promo.groupby(\"month\").agg({\"Customers\":  \"mean\"})\n",
    "customers_without_promo = no_promo.groupby(\"month\").agg({\"Customers\":  \"mean\"})"
   ]
  },
  {
   "cell_type": "code",
   "execution_count": 137,
   "id": "d4204f9a",
   "metadata": {},
   "outputs": [
    {
     "data": {
      "image/png": "[encoded data removed]",
      "text/plain": [
       "<Figure size 864x576 with 1 Axes>"
      ]
     },
     "metadata": {
      "needs_background": "light"
     },
     "output_type": "display_data"
    }
   ],
   "source": [
    "ax = customers_with_promo.plot(kind=\"bar\",color='blue',figsize=(12,8))\n",
    "ax.set_title(\"The overall sales increase percentage for each month due to promotion\")\n",
    "ax.set_xlabel(\"Month\")\n",
    "ax.set_ylabel(\"Sales increase in percent\")\n",
    "pyplot.show()"
   ]
  },
  {
   "cell_type": "code",
   "execution_count": 138,
   "id": "994282a3",
   "metadata": {},
   "outputs": [
    {
     "data": {
      "image/png": "[encoded data removed]",
      "text/plain": [
       "<Figure size 864x576 with 1 Axes>"
      ]
     },
     "metadata": {
      "needs_background": "light"
     },
     "output_type": "display_data"
    }
   ],
   "source": [
    "ax = customers_without_promo.plot(kind=\"bar\",color='green',figsize=(12,8))\n",
    "ax.set_title(\"The overall sales increase percentage for each month due to promotion\")\n",
    "ax.set_xlabel(\"Month\")\n",
    "ax.set_ylabel(\"Sales increase in percent\")\n",
    "pyplot.show()"
   ]
  },
  {
   "cell_type": "markdown",
   "id": "481d5f6d",
   "metadata": {},
   "source": [
    "As we see from the plots the promos has a positive effect on the number of customers."
   ]
  },
  {
   "cell_type": "markdown",
   "id": "a6a29439",
   "metadata": {},
   "source": [
    "### Could the promos be deployed in more effective ways? Which stores should promos be deployed in?"
   ]
  },
  {
   "cell_type": "code",
   "execution_count": 139,
   "id": "f16f740b",
   "metadata": {},
   "outputs": [
    {
     "data": {
      "text/plain": [
       "Index(['Unnamed: 0', 'Store', 'StoreType', 'Assortment', 'CompetitionDistance',\n",
       "       'CompetitionOpenSinceMonth', 'CompetitionOpenSinceYear', 'Promo2',\n",
       "       'Promo2SinceWeek', 'Promo2SinceYear', 'PromoInterval'],\n",
       "      dtype='object')"
      ]
     },
     "execution_count": 139,
     "metadata": {},
     "output_type": "execute_result"
    }
   ],
   "source": [
    "df_store.columns"
   ]
  },
  {
   "cell_type": "code",
   "execution_count": 140,
   "id": "a241cd92",
   "metadata": {},
   "outputs": [],
   "source": [
    "df = df_train.groupby(\"Store\").agg({\"Sales\":  \"sum\"}).sort_values(by=['Store'])"
   ]
  },
  {
   "cell_type": "code",
   "execution_count": 141,
   "id": "1ad34fda",
   "metadata": {},
   "outputs": [
    {
     "data": {
      "text/html": [
       "<div>\n",
       "<style scoped>\n",
       "    .dataframe tbody tr th:only-of-type {\n",
       "        vertical-align: middle;\n",
       "    }\n",
       "\n",
       "    .dataframe tbody tr th {\n",
       "        vertical-align: top;\n",
       "    }\n",
       "\n",
       "    .dataframe thead th {\n",
       "        text-align: right;\n",
       "    }\n",
       "</style>\n",
       "<table border=\"1\" class=\"dataframe\">\n",
       "  <thead>\n",
       "    <tr style=\"text-align: right;\">\n",
       "      <th></th>\n",
       "      <th>Unnamed: 0</th>\n",
       "      <th>Store</th>\n",
       "      <th>StoreType</th>\n",
       "      <th>Assortment</th>\n",
       "      <th>CompetitionDistance</th>\n",
       "      <th>CompetitionOpenSinceMonth</th>\n",
       "      <th>CompetitionOpenSinceYear</th>\n",
       "      <th>Promo2</th>\n",
       "      <th>Promo2SinceWeek</th>\n",
       "      <th>Promo2SinceYear</th>\n",
       "      <th>PromoInterval</th>\n",
       "    </tr>\n",
       "  </thead>\n",
       "  <tbody>\n",
       "    <tr>\n",
       "      <th>0</th>\n",
       "      <td>0</td>\n",
       "      <td>1</td>\n",
       "      <td>c</td>\n",
       "      <td>a</td>\n",
       "      <td>1270.0</td>\n",
       "      <td>9.0</td>\n",
       "      <td>2008.0</td>\n",
       "      <td>0</td>\n",
       "      <td>22.0</td>\n",
       "      <td>2012.0</td>\n",
       "      <td>Jan,Apr,Jul,Oct</td>\n",
       "    </tr>\n",
       "    <tr>\n",
       "      <th>1</th>\n",
       "      <td>1</td>\n",
       "      <td>2</td>\n",
       "      <td>a</td>\n",
       "      <td>a</td>\n",
       "      <td>570.0</td>\n",
       "      <td>11.0</td>\n",
       "      <td>2007.0</td>\n",
       "      <td>1</td>\n",
       "      <td>13.0</td>\n",
       "      <td>2010.0</td>\n",
       "      <td>Jan,Apr,Jul,Oct</td>\n",
       "    </tr>\n",
       "    <tr>\n",
       "      <th>2</th>\n",
       "      <td>2</td>\n",
       "      <td>3</td>\n",
       "      <td>a</td>\n",
       "      <td>a</td>\n",
       "      <td>14130.0</td>\n",
       "      <td>12.0</td>\n",
       "      <td>2006.0</td>\n",
       "      <td>1</td>\n",
       "      <td>14.0</td>\n",
       "      <td>2011.0</td>\n",
       "      <td>Jan,Apr,Jul,Oct</td>\n",
       "    </tr>\n",
       "    <tr>\n",
       "      <th>3</th>\n",
       "      <td>3</td>\n",
       "      <td>4</td>\n",
       "      <td>c</td>\n",
       "      <td>c</td>\n",
       "      <td>620.0</td>\n",
       "      <td>9.0</td>\n",
       "      <td>2009.0</td>\n",
       "      <td>0</td>\n",
       "      <td>22.0</td>\n",
       "      <td>2012.0</td>\n",
       "      <td>Jan,Apr,Jul,Oct</td>\n",
       "    </tr>\n",
       "    <tr>\n",
       "      <th>4</th>\n",
       "      <td>4</td>\n",
       "      <td>5</td>\n",
       "      <td>a</td>\n",
       "      <td>a</td>\n",
       "      <td>29910.0</td>\n",
       "      <td>4.0</td>\n",
       "      <td>2015.0</td>\n",
       "      <td>0</td>\n",
       "      <td>22.0</td>\n",
       "      <td>2012.0</td>\n",
       "      <td>Jan,Apr,Jul,Oct</td>\n",
       "    </tr>\n",
       "    <tr>\n",
       "      <th>...</th>\n",
       "      <td>...</td>\n",
       "      <td>...</td>\n",
       "      <td>...</td>\n",
       "      <td>...</td>\n",
       "      <td>...</td>\n",
       "      <td>...</td>\n",
       "      <td>...</td>\n",
       "      <td>...</td>\n",
       "      <td>...</td>\n",
       "      <td>...</td>\n",
       "      <td>...</td>\n",
       "    </tr>\n",
       "    <tr>\n",
       "      <th>1110</th>\n",
       "      <td>1110</td>\n",
       "      <td>1111</td>\n",
       "      <td>a</td>\n",
       "      <td>a</td>\n",
       "      <td>1900.0</td>\n",
       "      <td>6.0</td>\n",
       "      <td>2014.0</td>\n",
       "      <td>1</td>\n",
       "      <td>31.0</td>\n",
       "      <td>2013.0</td>\n",
       "      <td>Jan,Apr,Jul,Oct</td>\n",
       "    </tr>\n",
       "    <tr>\n",
       "      <th>1111</th>\n",
       "      <td>1111</td>\n",
       "      <td>1112</td>\n",
       "      <td>c</td>\n",
       "      <td>c</td>\n",
       "      <td>1880.0</td>\n",
       "      <td>4.0</td>\n",
       "      <td>2006.0</td>\n",
       "      <td>0</td>\n",
       "      <td>22.0</td>\n",
       "      <td>2012.0</td>\n",
       "      <td>Jan,Apr,Jul,Oct</td>\n",
       "    </tr>\n",
       "    <tr>\n",
       "      <th>1112</th>\n",
       "      <td>1112</td>\n",
       "      <td>1113</td>\n",
       "      <td>a</td>\n",
       "      <td>c</td>\n",
       "      <td>9260.0</td>\n",
       "      <td>8.0</td>\n",
       "      <td>2010.0</td>\n",
       "      <td>0</td>\n",
       "      <td>22.0</td>\n",
       "      <td>2012.0</td>\n",
       "      <td>Jan,Apr,Jul,Oct</td>\n",
       "    </tr>\n",
       "    <tr>\n",
       "      <th>1113</th>\n",
       "      <td>1113</td>\n",
       "      <td>1114</td>\n",
       "      <td>a</td>\n",
       "      <td>c</td>\n",
       "      <td>870.0</td>\n",
       "      <td>8.0</td>\n",
       "      <td>2010.0</td>\n",
       "      <td>0</td>\n",
       "      <td>22.0</td>\n",
       "      <td>2012.0</td>\n",
       "      <td>Jan,Apr,Jul,Oct</td>\n",
       "    </tr>\n",
       "    <tr>\n",
       "      <th>1114</th>\n",
       "      <td>1114</td>\n",
       "      <td>1115</td>\n",
       "      <td>d</td>\n",
       "      <td>c</td>\n",
       "      <td>5350.0</td>\n",
       "      <td>8.0</td>\n",
       "      <td>2010.0</td>\n",
       "      <td>1</td>\n",
       "      <td>22.0</td>\n",
       "      <td>2012.0</td>\n",
       "      <td>Mar,Jun,Sept,Dec</td>\n",
       "    </tr>\n",
       "  </tbody>\n",
       "</table>\n",
       "<p>1115 rows × 11 columns</p>\n",
       "</div>"
      ],
      "text/plain": [
       "      Unnamed: 0  Store StoreType Assortment  CompetitionDistance  \\\n",
       "0              0      1         c          a               1270.0   \n",
       "1              1      2         a          a                570.0   \n",
       "2              2      3         a          a              14130.0   \n",
       "3              3      4         c          c                620.0   \n",
       "4              4      5         a          a              29910.0   \n",
       "...          ...    ...       ...        ...                  ...   \n",
       "1110        1110   1111         a          a               1900.0   \n",
       "1111        1111   1112         c          c               1880.0   \n",
       "1112        1112   1113         a          c               9260.0   \n",
       "1113        1113   1114         a          c                870.0   \n",
       "1114        1114   1115         d          c               5350.0   \n",
       "\n",
       "      CompetitionOpenSinceMonth  CompetitionOpenSinceYear  Promo2  \\\n",
       "0                           9.0                    2008.0       0   \n",
       "1                          11.0                    2007.0       1   \n",
       "2                          12.0                    2006.0       1   \n",
       "3                           9.0                    2009.0       0   \n",
       "4                           4.0                    2015.0       0   \n",
       "...                         ...                       ...     ...   \n",
       "1110                        6.0                    2014.0       1   \n",
       "1111                        4.0                    2006.0       0   \n",
       "1112                        8.0                    2010.0       0   \n",
       "1113                        8.0                    2010.0       0   \n",
       "1114                        8.0                    2010.0       1   \n",
       "\n",
       "      Promo2SinceWeek  Promo2SinceYear     PromoInterval  \n",
       "0                22.0           2012.0   Jan,Apr,Jul,Oct  \n",
       "1                13.0           2010.0   Jan,Apr,Jul,Oct  \n",
       "2                14.0           2011.0   Jan,Apr,Jul,Oct  \n",
       "3                22.0           2012.0   Jan,Apr,Jul,Oct  \n",
       "4                22.0           2012.0   Jan,Apr,Jul,Oct  \n",
       "...               ...              ...               ...  \n",
       "1110             31.0           2013.0   Jan,Apr,Jul,Oct  \n",
       "1111             22.0           2012.0   Jan,Apr,Jul,Oct  \n",
       "1112             22.0           2012.0   Jan,Apr,Jul,Oct  \n",
       "1113             22.0           2012.0   Jan,Apr,Jul,Oct  \n",
       "1114             22.0           2012.0  Mar,Jun,Sept,Dec  \n",
       "\n",
       "[1115 rows x 11 columns]"
      ]
     },
     "execution_count": 141,
     "metadata": {},
     "output_type": "execute_result"
    }
   ],
   "source": [
    "df_store"
   ]
  },
  {
   "cell_type": "code",
   "execution_count": 142,
   "id": "2e17048b",
   "metadata": {},
   "outputs": [],
   "source": [
    "merged = pd.concat([df, df_store['StoreType']], axis=1)"
   ]
  },
  {
   "cell_type": "code",
   "execution_count": 143,
   "id": "e4291e60",
   "metadata": {},
   "outputs": [
    {
     "data": {
      "text/html": [
       "<div>\n",
       "<style scoped>\n",
       "    .dataframe tbody tr th:only-of-type {\n",
       "        vertical-align: middle;\n",
       "    }\n",
       "\n",
       "    .dataframe tbody tr th {\n",
       "        vertical-align: top;\n",
       "    }\n",
       "\n",
       "    .dataframe thead th {\n",
       "        text-align: right;\n",
       "    }\n",
       "</style>\n",
       "<table border=\"1\" class=\"dataframe\">\n",
       "  <thead>\n",
       "    <tr style=\"text-align: right;\">\n",
       "      <th></th>\n",
       "      <th>Sales</th>\n",
       "    </tr>\n",
       "    <tr>\n",
       "      <th>StoreType</th>\n",
       "      <th></th>\n",
       "    </tr>\n",
       "  </thead>\n",
       "  <tbody>\n",
       "    <tr>\n",
       "      <th>a</th>\n",
       "      <td>3.187921e+09</td>\n",
       "    </tr>\n",
       "    <tr>\n",
       "      <th>b</th>\n",
       "      <td>9.672128e+07</td>\n",
       "    </tr>\n",
       "    <tr>\n",
       "      <th>c</th>\n",
       "      <td>7.744859e+08</td>\n",
       "    </tr>\n",
       "    <tr>\n",
       "      <th>d</th>\n",
       "      <td>1.809130e+09</td>\n",
       "    </tr>\n",
       "  </tbody>\n",
       "</table>\n",
       "</div>"
      ],
      "text/plain": [
       "                  Sales\n",
       "StoreType              \n",
       "a          3.187921e+09\n",
       "b          9.672128e+07\n",
       "c          7.744859e+08\n",
       "d          1.809130e+09"
      ]
     },
     "execution_count": 143,
     "metadata": {},
     "output_type": "execute_result"
    }
   ],
   "source": [
    "merged.groupby('StoreType').agg({\"Sales\":  \"sum\"})"
   ]
  },
  {
   "cell_type": "markdown",
   "id": "9ff8787f",
   "metadata": {},
   "source": [
    "StoreType A has the biggest sales record. The promotions has a direct impact on the StoreType A."
   ]
  },
  {
   "cell_type": "markdown",
   "id": "9bea4315",
   "metadata": {},
   "source": [
    "### Trends of customer behavior during store open and closing times"
   ]
  },
  {
   "cell_type": "code",
   "execution_count": 144,
   "id": "d56bb4dd",
   "metadata": {},
   "outputs": [
    {
     "data": {
      "text/html": [
       "<div>\n",
       "<style scoped>\n",
       "    .dataframe tbody tr th:only-of-type {\n",
       "        vertical-align: middle;\n",
       "    }\n",
       "\n",
       "    .dataframe tbody tr th {\n",
       "        vertical-align: top;\n",
       "    }\n",
       "\n",
       "    .dataframe thead th {\n",
       "        text-align: right;\n",
       "    }\n",
       "</style>\n",
       "<table border=\"1\" class=\"dataframe\">\n",
       "  <thead>\n",
       "    <tr style=\"text-align: right;\">\n",
       "      <th></th>\n",
       "      <th>Unnamed: 0</th>\n",
       "      <th>Store</th>\n",
       "      <th>DayOfWeek</th>\n",
       "      <th>Date</th>\n",
       "      <th>Sales</th>\n",
       "      <th>Customers</th>\n",
       "      <th>Open</th>\n",
       "      <th>Promo</th>\n",
       "      <th>StateHoliday</th>\n",
       "      <th>SchoolHoliday</th>\n",
       "      <th>year</th>\n",
       "      <th>month</th>\n",
       "      <th>day</th>\n",
       "    </tr>\n",
       "  </thead>\n",
       "  <tbody>\n",
       "    <tr>\n",
       "      <th>291</th>\n",
       "      <td>291</td>\n",
       "      <td>292</td>\n",
       "      <td>5</td>\n",
       "      <td>2015-07-31</td>\n",
       "      <td>0</td>\n",
       "      <td>0</td>\n",
       "      <td>0</td>\n",
       "      <td>1</td>\n",
       "      <td>0</td>\n",
       "      <td>1</td>\n",
       "      <td>2015</td>\n",
       "      <td>07</td>\n",
       "      <td>31</td>\n",
       "    </tr>\n",
       "    <tr>\n",
       "      <th>875</th>\n",
       "      <td>875</td>\n",
       "      <td>876</td>\n",
       "      <td>5</td>\n",
       "      <td>2015-07-31</td>\n",
       "      <td>0</td>\n",
       "      <td>0</td>\n",
       "      <td>0</td>\n",
       "      <td>1</td>\n",
       "      <td>0</td>\n",
       "      <td>1</td>\n",
       "      <td>2015</td>\n",
       "      <td>07</td>\n",
       "      <td>31</td>\n",
       "    </tr>\n",
       "    <tr>\n",
       "      <th>1406</th>\n",
       "      <td>1406</td>\n",
       "      <td>292</td>\n",
       "      <td>4</td>\n",
       "      <td>2015-07-30</td>\n",
       "      <td>0</td>\n",
       "      <td>0</td>\n",
       "      <td>0</td>\n",
       "      <td>1</td>\n",
       "      <td>0</td>\n",
       "      <td>1</td>\n",
       "      <td>2015</td>\n",
       "      <td>07</td>\n",
       "      <td>30</td>\n",
       "    </tr>\n",
       "    <tr>\n",
       "      <th>1990</th>\n",
       "      <td>1990</td>\n",
       "      <td>876</td>\n",
       "      <td>4</td>\n",
       "      <td>2015-07-30</td>\n",
       "      <td>0</td>\n",
       "      <td>0</td>\n",
       "      <td>0</td>\n",
       "      <td>1</td>\n",
       "      <td>0</td>\n",
       "      <td>1</td>\n",
       "      <td>2015</td>\n",
       "      <td>07</td>\n",
       "      <td>30</td>\n",
       "    </tr>\n",
       "    <tr>\n",
       "      <th>2521</th>\n",
       "      <td>2521</td>\n",
       "      <td>292</td>\n",
       "      <td>3</td>\n",
       "      <td>2015-07-29</td>\n",
       "      <td>0</td>\n",
       "      <td>0</td>\n",
       "      <td>0</td>\n",
       "      <td>1</td>\n",
       "      <td>0</td>\n",
       "      <td>1</td>\n",
       "      <td>2015</td>\n",
       "      <td>07</td>\n",
       "      <td>29</td>\n",
       "    </tr>\n",
       "    <tr>\n",
       "      <th>...</th>\n",
       "      <td>...</td>\n",
       "      <td>...</td>\n",
       "      <td>...</td>\n",
       "      <td>...</td>\n",
       "      <td>...</td>\n",
       "      <td>...</td>\n",
       "      <td>...</td>\n",
       "      <td>...</td>\n",
       "      <td>...</td>\n",
       "      <td>...</td>\n",
       "      <td>...</td>\n",
       "      <td>...</td>\n",
       "      <td>...</td>\n",
       "    </tr>\n",
       "    <tr>\n",
       "      <th>1017204</th>\n",
       "      <td>1017204</td>\n",
       "      <td>1111</td>\n",
       "      <td>2</td>\n",
       "      <td>2013-01-01</td>\n",
       "      <td>0</td>\n",
       "      <td>0</td>\n",
       "      <td>0</td>\n",
       "      <td>0</td>\n",
       "      <td>a</td>\n",
       "      <td>1</td>\n",
       "      <td>2013</td>\n",
       "      <td>01</td>\n",
       "      <td>01</td>\n",
       "    </tr>\n",
       "    <tr>\n",
       "      <th>1017205</th>\n",
       "      <td>1017205</td>\n",
       "      <td>1112</td>\n",
       "      <td>2</td>\n",
       "      <td>2013-01-01</td>\n",
       "      <td>0</td>\n",
       "      <td>0</td>\n",
       "      <td>0</td>\n",
       "      <td>0</td>\n",
       "      <td>a</td>\n",
       "      <td>1</td>\n",
       "      <td>2013</td>\n",
       "      <td>01</td>\n",
       "      <td>01</td>\n",
       "    </tr>\n",
       "    <tr>\n",
       "      <th>1017206</th>\n",
       "      <td>1017206</td>\n",
       "      <td>1113</td>\n",
       "      <td>2</td>\n",
       "      <td>2013-01-01</td>\n",
       "      <td>0</td>\n",
       "      <td>0</td>\n",
       "      <td>0</td>\n",
       "      <td>0</td>\n",
       "      <td>a</td>\n",
       "      <td>1</td>\n",
       "      <td>2013</td>\n",
       "      <td>01</td>\n",
       "      <td>01</td>\n",
       "    </tr>\n",
       "    <tr>\n",
       "      <th>1017207</th>\n",
       "      <td>1017207</td>\n",
       "      <td>1114</td>\n",
       "      <td>2</td>\n",
       "      <td>2013-01-01</td>\n",
       "      <td>0</td>\n",
       "      <td>0</td>\n",
       "      <td>0</td>\n",
       "      <td>0</td>\n",
       "      <td>a</td>\n",
       "      <td>1</td>\n",
       "      <td>2013</td>\n",
       "      <td>01</td>\n",
       "      <td>01</td>\n",
       "    </tr>\n",
       "    <tr>\n",
       "      <th>1017208</th>\n",
       "      <td>1017208</td>\n",
       "      <td>1115</td>\n",
       "      <td>2</td>\n",
       "      <td>2013-01-01</td>\n",
       "      <td>0</td>\n",
       "      <td>0</td>\n",
       "      <td>0</td>\n",
       "      <td>0</td>\n",
       "      <td>a</td>\n",
       "      <td>1</td>\n",
       "      <td>2013</td>\n",
       "      <td>01</td>\n",
       "      <td>01</td>\n",
       "    </tr>\n",
       "  </tbody>\n",
       "</table>\n",
       "<p>172817 rows × 13 columns</p>\n",
       "</div>"
      ],
      "text/plain": [
       "         Unnamed: 0  Store  DayOfWeek        Date  Sales  Customers  Open  \\\n",
       "291             291    292          5  2015-07-31      0          0     0   \n",
       "875             875    876          5  2015-07-31      0          0     0   \n",
       "1406           1406    292          4  2015-07-30      0          0     0   \n",
       "1990           1990    876          4  2015-07-30      0          0     0   \n",
       "2521           2521    292          3  2015-07-29      0          0     0   \n",
       "...             ...    ...        ...         ...    ...        ...   ...   \n",
       "1017204     1017204   1111          2  2013-01-01      0          0     0   \n",
       "1017205     1017205   1112          2  2013-01-01      0          0     0   \n",
       "1017206     1017206   1113          2  2013-01-01      0          0     0   \n",
       "1017207     1017207   1114          2  2013-01-01      0          0     0   \n",
       "1017208     1017208   1115          2  2013-01-01      0          0     0   \n",
       "\n",
       "         Promo StateHoliday  SchoolHoliday  year month day  \n",
       "291          1            0              1  2015    07  31  \n",
       "875          1            0              1  2015    07  31  \n",
       "1406         1            0              1  2015    07  30  \n",
       "1990         1            0              1  2015    07  30  \n",
       "2521         1            0              1  2015    07  29  \n",
       "...        ...          ...            ...   ...   ...  ..  \n",
       "1017204      0            a              1  2013    01  01  \n",
       "1017205      0            a              1  2013    01  01  \n",
       "1017206      0            a              1  2013    01  01  \n",
       "1017207      0            a              1  2013    01  01  \n",
       "1017208      0            a              1  2013    01  01  \n",
       "\n",
       "[172817 rows x 13 columns]"
      ]
     },
     "execution_count": 144,
     "metadata": {},
     "output_type": "execute_result"
    }
   ],
   "source": [
    "df_train[df_train['Open'] == 0]"
   ]
  },
  {
   "cell_type": "markdown",
   "id": "938762a7",
   "metadata": {},
   "source": [
    "### Which stores are opened on all weekdays? How does that affect their sales on weekends? "
   ]
  },
  {
   "cell_type": "code",
   "execution_count": 145,
   "id": "9e5e5eff",
   "metadata": {},
   "outputs": [
    {
     "data": {
      "image/png": "[encoded data removed]",
      "text/plain": [
       "<Figure size 432x288 with 1 Axes>"
      ]
     },
     "metadata": {
      "needs_background": "light"
     },
     "output_type": "display_data"
    }
   ],
   "source": [
    "stores_open_on_weekdays = df_train.query(\"Open==1\")['Store'].unique()\n",
    "sales_stores_open_on_weekdays = df_train[(df_train[\"Store\"].isin(stores_open_on_weekdays) &df_train['Open']==1 & ~df_train['DayOfWeek'].isin([6,7]))].groupby('Store')['Sales'].sum()\n",
    "sns.lineplot(data=sales_stores_open_on_weekdays)\n",
    "sales_stores_open_on_weekdays = df_train[(df_train[\"Store\"].isin(stores_open_on_weekdays) & df_train['Open']==1 & df_train['DayOfWeek'].isin([6,7]))].groupby('Store')['Sales'].sum()\n",
    "sns.lineplot(data=sales_stores_open_on_weekdays)\n",
    "pyplot.legend(['Weekday', 'Weekend'], fontsize=14, loc='upper right')\n",
    "pyplot.show()"
   ]
  },
  {
   "cell_type": "markdown",
   "id": "57164d99",
   "metadata": {},
   "source": [
    "### Check how the assortment type affects sales"
   ]
  },
  {
   "cell_type": "code",
   "execution_count": 146,
   "id": "16284971",
   "metadata": {},
   "outputs": [],
   "source": [
    "df_assort = df_store[['Assortment','StoreType']]"
   ]
  },
  {
   "cell_type": "code",
   "execution_count": 147,
   "id": "7f25f5fe",
   "metadata": {},
   "outputs": [],
   "source": [
    "merged = pd.concat([df, df_assort], axis=1)"
   ]
  },
  {
   "cell_type": "code",
   "execution_count": 148,
   "id": "e26cf17b",
   "metadata": {},
   "outputs": [
    {
     "data": {
      "text/html": [
       "<div>\n",
       "<style scoped>\n",
       "    .dataframe tbody tr th:only-of-type {\n",
       "        vertical-align: middle;\n",
       "    }\n",
       "\n",
       "    .dataframe tbody tr th {\n",
       "        vertical-align: top;\n",
       "    }\n",
       "\n",
       "    .dataframe thead th {\n",
       "        text-align: right;\n",
       "    }\n",
       "</style>\n",
       "<table border=\"1\" class=\"dataframe\">\n",
       "  <thead>\n",
       "    <tr style=\"text-align: right;\">\n",
       "      <th></th>\n",
       "      <th>Sales</th>\n",
       "      <th>Assortment</th>\n",
       "      <th>StoreType</th>\n",
       "    </tr>\n",
       "  </thead>\n",
       "  <tbody>\n",
       "    <tr>\n",
       "      <th>1</th>\n",
       "      <td>3716854.0</td>\n",
       "      <td>a</td>\n",
       "      <td>a</td>\n",
       "    </tr>\n",
       "    <tr>\n",
       "      <th>2</th>\n",
       "      <td>3883858.0</td>\n",
       "      <td>a</td>\n",
       "      <td>a</td>\n",
       "    </tr>\n",
       "    <tr>\n",
       "      <th>3</th>\n",
       "      <td>5408261.0</td>\n",
       "      <td>c</td>\n",
       "      <td>c</td>\n",
       "    </tr>\n",
       "    <tr>\n",
       "      <th>4</th>\n",
       "      <td>7556507.0</td>\n",
       "      <td>a</td>\n",
       "      <td>a</td>\n",
       "    </tr>\n",
       "    <tr>\n",
       "      <th>5</th>\n",
       "      <td>3642818.0</td>\n",
       "      <td>a</td>\n",
       "      <td>a</td>\n",
       "    </tr>\n",
       "    <tr>\n",
       "      <th>...</th>\n",
       "      <td>...</td>\n",
       "      <td>...</td>\n",
       "      <td>...</td>\n",
       "    </tr>\n",
       "    <tr>\n",
       "      <th>1112</th>\n",
       "      <td>7974294.0</td>\n",
       "      <td>c</td>\n",
       "      <td>a</td>\n",
       "    </tr>\n",
       "    <tr>\n",
       "      <th>1113</th>\n",
       "      <td>5196242.0</td>\n",
       "      <td>c</td>\n",
       "      <td>a</td>\n",
       "    </tr>\n",
       "    <tr>\n",
       "      <th>1114</th>\n",
       "      <td>16202585.0</td>\n",
       "      <td>c</td>\n",
       "      <td>d</td>\n",
       "    </tr>\n",
       "    <tr>\n",
       "      <th>1115</th>\n",
       "      <td>4922229.0</td>\n",
       "      <td>NaN</td>\n",
       "      <td>NaN</td>\n",
       "    </tr>\n",
       "    <tr>\n",
       "      <th>0</th>\n",
       "      <td>NaN</td>\n",
       "      <td>a</td>\n",
       "      <td>c</td>\n",
       "    </tr>\n",
       "  </tbody>\n",
       "</table>\n",
       "<p>1116 rows × 3 columns</p>\n",
       "</div>"
      ],
      "text/plain": [
       "           Sales Assortment StoreType\n",
       "1      3716854.0          a         a\n",
       "2      3883858.0          a         a\n",
       "3      5408261.0          c         c\n",
       "4      7556507.0          a         a\n",
       "5      3642818.0          a         a\n",
       "...          ...        ...       ...\n",
       "1112   7974294.0          c         a\n",
       "1113   5196242.0          c         a\n",
       "1114  16202585.0          c         d\n",
       "1115   4922229.0        NaN       NaN\n",
       "0            NaN          a         c\n",
       "\n",
       "[1116 rows x 3 columns]"
      ]
     },
     "execution_count": 148,
     "metadata": {},
     "output_type": "execute_result"
    }
   ],
   "source": [
    "merged"
   ]
  },
  {
   "cell_type": "code",
   "execution_count": 149,
   "id": "0fd56aff",
   "metadata": {},
   "outputs": [
    {
     "data": {
      "text/html": [
       "<div>\n",
       "<style scoped>\n",
       "    .dataframe tbody tr th:only-of-type {\n",
       "        vertical-align: middle;\n",
       "    }\n",
       "\n",
       "    .dataframe tbody tr th {\n",
       "        vertical-align: top;\n",
       "    }\n",
       "\n",
       "    .dataframe thead th {\n",
       "        text-align: right;\n",
       "    }\n",
       "</style>\n",
       "<table border=\"1\" class=\"dataframe\">\n",
       "  <thead>\n",
       "    <tr style=\"text-align: right;\">\n",
       "      <th></th>\n",
       "      <th>Sales</th>\n",
       "    </tr>\n",
       "    <tr>\n",
       "      <th>Assortment</th>\n",
       "      <th></th>\n",
       "    </tr>\n",
       "  </thead>\n",
       "  <tbody>\n",
       "    <tr>\n",
       "      <th>a</th>\n",
       "      <td>3.103744e+09</td>\n",
       "    </tr>\n",
       "    <tr>\n",
       "      <th>b</th>\n",
       "      <td>4.807877e+07</td>\n",
       "    </tr>\n",
       "    <tr>\n",
       "      <th>c</th>\n",
       "      <td>2.716436e+09</td>\n",
       "    </tr>\n",
       "  </tbody>\n",
       "</table>\n",
       "</div>"
      ],
      "text/plain": [
       "                   Sales\n",
       "Assortment              \n",
       "a           3.103744e+09\n",
       "b           4.807877e+07\n",
       "c           2.716436e+09"
      ]
     },
     "execution_count": 149,
     "metadata": {},
     "output_type": "execute_result"
    }
   ],
   "source": [
    "merged.groupby('Assortment').agg({\"Sales\":  \"sum\"})"
   ]
  },
  {
   "cell_type": "markdown",
   "id": "a5235a8c",
   "metadata": {},
   "source": [
    "The assortment type a has the maximum sales and the minimum sales is happened in the assortment type c"
   ]
  },
  {
   "cell_type": "markdown",
   "id": "3bf359e1",
   "metadata": {},
   "source": [
    "### How does the distance to the next competitor affect sales? What if the store and its competitors all happen to be in city centers, does the distance matter in that case?\n"
   ]
  },
  {
   "cell_type": "code",
   "execution_count": 150,
   "id": "053c7a5f",
   "metadata": {},
   "outputs": [
    {
     "data": {
      "text/html": [
       "<div>\n",
       "<style scoped>\n",
       "    .dataframe tbody tr th:only-of-type {\n",
       "        vertical-align: middle;\n",
       "    }\n",
       "\n",
       "    .dataframe tbody tr th {\n",
       "        vertical-align: top;\n",
       "    }\n",
       "\n",
       "    .dataframe thead th {\n",
       "        text-align: right;\n",
       "    }\n",
       "</style>\n",
       "<table border=\"1\" class=\"dataframe\">\n",
       "  <thead>\n",
       "    <tr style=\"text-align: right;\">\n",
       "      <th></th>\n",
       "      <th>Sales</th>\n",
       "      <th>CompetitionDistance</th>\n",
       "    </tr>\n",
       "  </thead>\n",
       "  <tbody>\n",
       "    <tr>\n",
       "      <th>Sales</th>\n",
       "      <td>1.000000</td>\n",
       "      <td>0.004643</td>\n",
       "    </tr>\n",
       "    <tr>\n",
       "      <th>CompetitionDistance</th>\n",
       "      <td>0.004643</td>\n",
       "      <td>1.000000</td>\n",
       "    </tr>\n",
       "  </tbody>\n",
       "</table>\n",
       "</div>"
      ],
      "text/plain": [
       "                        Sales  CompetitionDistance\n",
       "Sales                1.000000             0.004643\n",
       "CompetitionDistance  0.004643             1.000000"
      ]
     },
     "metadata": {},
     "output_type": "display_data"
    },
    {
     "data": {
      "image/png": "[encoded data removed]",
      "text/plain": [
       "<Figure size 432x288 with 1 Axes>"
      ]
     },
     "metadata": {
      "needs_background": "light"
     },
     "output_type": "display_data"
    }
   ],
   "source": [
    "df_ = df_store[['CompetitionDistance','StoreType']]\n",
    "df_merged = pd.concat([df_train, df_], axis=1)\n",
    "competition_df = df_merged[[\"Store\", \"Sales\", \"Customers\", \"StoreType\", \"CompetitionDistance\"]]\n",
    "competition_df_agg = competition_df.groupby(\"Store\").agg({\"Sales\": \"sum\", \"Customers\" : \"sum\",\n",
    "                                                      \"CompetitionDistance\": lambda x: max(x)})\n",
    "competition_df_agg.plot(x='CompetitionDistance', y='Sales',kind='scatter')\n",
    "\n",
    "competition_df_corr = competition_df[[\"Sales\", \"CompetitionDistance\"]].corr()\n",
    "display(competition_df_corr)"
   ]
  },
  {
   "cell_type": "code",
   "execution_count": 151,
   "id": "b235f659",
   "metadata": {},
   "outputs": [
    {
     "data": {
      "text/html": [
       "<div>\n",
       "<style scoped>\n",
       "    .dataframe tbody tr th:only-of-type {\n",
       "        vertical-align: middle;\n",
       "    }\n",
       "\n",
       "    .dataframe tbody tr th {\n",
       "        vertical-align: top;\n",
       "    }\n",
       "\n",
       "    .dataframe thead th {\n",
       "        text-align: right;\n",
       "    }\n",
       "</style>\n",
       "<table border=\"1\" class=\"dataframe\">\n",
       "  <thead>\n",
       "    <tr style=\"text-align: right;\">\n",
       "      <th></th>\n",
       "      <th>Unnamed: 0</th>\n",
       "      <th>Store</th>\n",
       "      <th>DayOfWeek</th>\n",
       "      <th>Date</th>\n",
       "      <th>Sales</th>\n",
       "      <th>Customers</th>\n",
       "      <th>Open</th>\n",
       "      <th>Promo</th>\n",
       "      <th>StateHoliday</th>\n",
       "      <th>SchoolHoliday</th>\n",
       "      <th>year</th>\n",
       "      <th>month</th>\n",
       "      <th>day</th>\n",
       "    </tr>\n",
       "  </thead>\n",
       "  <tbody>\n",
       "    <tr>\n",
       "      <th>0</th>\n",
       "      <td>0</td>\n",
       "      <td>1</td>\n",
       "      <td>5</td>\n",
       "      <td>2015-07-31</td>\n",
       "      <td>5263</td>\n",
       "      <td>555</td>\n",
       "      <td>1</td>\n",
       "      <td>1</td>\n",
       "      <td>0</td>\n",
       "      <td>1</td>\n",
       "      <td>2015</td>\n",
       "      <td>07</td>\n",
       "      <td>31</td>\n",
       "    </tr>\n",
       "    <tr>\n",
       "      <th>1</th>\n",
       "      <td>1</td>\n",
       "      <td>2</td>\n",
       "      <td>5</td>\n",
       "      <td>2015-07-31</td>\n",
       "      <td>6064</td>\n",
       "      <td>625</td>\n",
       "      <td>1</td>\n",
       "      <td>1</td>\n",
       "      <td>0</td>\n",
       "      <td>1</td>\n",
       "      <td>2015</td>\n",
       "      <td>07</td>\n",
       "      <td>31</td>\n",
       "    </tr>\n",
       "    <tr>\n",
       "      <th>2</th>\n",
       "      <td>2</td>\n",
       "      <td>3</td>\n",
       "      <td>5</td>\n",
       "      <td>2015-07-31</td>\n",
       "      <td>8314</td>\n",
       "      <td>821</td>\n",
       "      <td>1</td>\n",
       "      <td>1</td>\n",
       "      <td>0</td>\n",
       "      <td>1</td>\n",
       "      <td>2015</td>\n",
       "      <td>07</td>\n",
       "      <td>31</td>\n",
       "    </tr>\n",
       "    <tr>\n",
       "      <th>3</th>\n",
       "      <td>3</td>\n",
       "      <td>4</td>\n",
       "      <td>5</td>\n",
       "      <td>2015-07-31</td>\n",
       "      <td>13995</td>\n",
       "      <td>1498</td>\n",
       "      <td>1</td>\n",
       "      <td>1</td>\n",
       "      <td>0</td>\n",
       "      <td>1</td>\n",
       "      <td>2015</td>\n",
       "      <td>07</td>\n",
       "      <td>31</td>\n",
       "    </tr>\n",
       "    <tr>\n",
       "      <th>4</th>\n",
       "      <td>4</td>\n",
       "      <td>5</td>\n",
       "      <td>5</td>\n",
       "      <td>2015-07-31</td>\n",
       "      <td>4822</td>\n",
       "      <td>559</td>\n",
       "      <td>1</td>\n",
       "      <td>1</td>\n",
       "      <td>0</td>\n",
       "      <td>1</td>\n",
       "      <td>2015</td>\n",
       "      <td>07</td>\n",
       "      <td>31</td>\n",
       "    </tr>\n",
       "    <tr>\n",
       "      <th>...</th>\n",
       "      <td>...</td>\n",
       "      <td>...</td>\n",
       "      <td>...</td>\n",
       "      <td>...</td>\n",
       "      <td>...</td>\n",
       "      <td>...</td>\n",
       "      <td>...</td>\n",
       "      <td>...</td>\n",
       "      <td>...</td>\n",
       "      <td>...</td>\n",
       "      <td>...</td>\n",
       "      <td>...</td>\n",
       "      <td>...</td>\n",
       "    </tr>\n",
       "    <tr>\n",
       "      <th>1017204</th>\n",
       "      <td>1017204</td>\n",
       "      <td>1111</td>\n",
       "      <td>2</td>\n",
       "      <td>2013-01-01</td>\n",
       "      <td>0</td>\n",
       "      <td>0</td>\n",
       "      <td>0</td>\n",
       "      <td>0</td>\n",
       "      <td>a</td>\n",
       "      <td>1</td>\n",
       "      <td>2013</td>\n",
       "      <td>01</td>\n",
       "      <td>01</td>\n",
       "    </tr>\n",
       "    <tr>\n",
       "      <th>1017205</th>\n",
       "      <td>1017205</td>\n",
       "      <td>1112</td>\n",
       "      <td>2</td>\n",
       "      <td>2013-01-01</td>\n",
       "      <td>0</td>\n",
       "      <td>0</td>\n",
       "      <td>0</td>\n",
       "      <td>0</td>\n",
       "      <td>a</td>\n",
       "      <td>1</td>\n",
       "      <td>2013</td>\n",
       "      <td>01</td>\n",
       "      <td>01</td>\n",
       "    </tr>\n",
       "    <tr>\n",
       "      <th>1017206</th>\n",
       "      <td>1017206</td>\n",
       "      <td>1113</td>\n",
       "      <td>2</td>\n",
       "      <td>2013-01-01</td>\n",
       "      <td>0</td>\n",
       "      <td>0</td>\n",
       "      <td>0</td>\n",
       "      <td>0</td>\n",
       "      <td>a</td>\n",
       "      <td>1</td>\n",
       "      <td>2013</td>\n",
       "      <td>01</td>\n",
       "      <td>01</td>\n",
       "    </tr>\n",
       "    <tr>\n",
       "      <th>1017207</th>\n",
       "      <td>1017207</td>\n",
       "      <td>1114</td>\n",
       "      <td>2</td>\n",
       "      <td>2013-01-01</td>\n",
       "      <td>0</td>\n",
       "      <td>0</td>\n",
       "      <td>0</td>\n",
       "      <td>0</td>\n",
       "      <td>a</td>\n",
       "      <td>1</td>\n",
       "      <td>2013</td>\n",
       "      <td>01</td>\n",
       "      <td>01</td>\n",
       "    </tr>\n",
       "    <tr>\n",
       "      <th>1017208</th>\n",
       "      <td>1017208</td>\n",
       "      <td>1115</td>\n",
       "      <td>2</td>\n",
       "      <td>2013-01-01</td>\n",
       "      <td>0</td>\n",
       "      <td>0</td>\n",
       "      <td>0</td>\n",
       "      <td>0</td>\n",
       "      <td>a</td>\n",
       "      <td>1</td>\n",
       "      <td>2013</td>\n",
       "      <td>01</td>\n",
       "      <td>01</td>\n",
       "    </tr>\n",
       "  </tbody>\n",
       "</table>\n",
       "<p>1017209 rows × 13 columns</p>\n",
       "</div>"
      ],
      "text/plain": [
       "         Unnamed: 0  Store  DayOfWeek        Date  Sales  Customers  Open  \\\n",
       "0                 0      1          5  2015-07-31   5263        555     1   \n",
       "1                 1      2          5  2015-07-31   6064        625     1   \n",
       "2                 2      3          5  2015-07-31   8314        821     1   \n",
       "3                 3      4          5  2015-07-31  13995       1498     1   \n",
       "4                 4      5          5  2015-07-31   4822        559     1   \n",
       "...             ...    ...        ...         ...    ...        ...   ...   \n",
       "1017204     1017204   1111          2  2013-01-01      0          0     0   \n",
       "1017205     1017205   1112          2  2013-01-01      0          0     0   \n",
       "1017206     1017206   1113          2  2013-01-01      0          0     0   \n",
       "1017207     1017207   1114          2  2013-01-01      0          0     0   \n",
       "1017208     1017208   1115          2  2013-01-01      0          0     0   \n",
       "\n",
       "         Promo StateHoliday  SchoolHoliday  year month day  \n",
       "0            1            0              1  2015    07  31  \n",
       "1            1            0              1  2015    07  31  \n",
       "2            1            0              1  2015    07  31  \n",
       "3            1            0              1  2015    07  31  \n",
       "4            1            0              1  2015    07  31  \n",
       "...        ...          ...            ...   ...   ...  ..  \n",
       "1017204      0            a              1  2013    01  01  \n",
       "1017205      0            a              1  2013    01  01  \n",
       "1017206      0            a              1  2013    01  01  \n",
       "1017207      0            a              1  2013    01  01  \n",
       "1017208      0            a              1  2013    01  01  \n",
       "\n",
       "[1017209 rows x 13 columns]"
      ]
     },
     "execution_count": 151,
     "metadata": {},
     "output_type": "execute_result"
    }
   ],
   "source": [
    "df_train"
   ]
  },
  {
   "cell_type": "code",
   "execution_count": 152,
   "id": "5a5529d7",
   "metadata": {},
   "outputs": [],
   "source": [
    "merged.to_csv('../data/clean/merged_data.csv')"
   ]
  },
  {
   "cell_type": "code",
   "execution_count": null,
   "id": "dd6494bc",
   "metadata": {},
   "outputs": [],
   "source": []
  }
 ],
 "metadata": {
  "kernelspec": {
   "display_name": "Python 3 (ipykernel)",
   "language": "python",
   "name": "python3"
  },
  "language_info": {
   "codemirror_mode": {
    "name": "ipython",
    "version": 3
   },
   "file_extension": ".py",
   "mimetype": "text/x-python",
   "name": "python",
   "nbconvert_exporter": "python",
   "pygments_lexer": "ipython3",
   "version": "3.10.4"
  }
 },
 "nbformat": 4,
 "nbformat_minor": 5
}
